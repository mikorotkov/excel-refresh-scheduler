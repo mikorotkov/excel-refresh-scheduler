{
 "cells": [
  {
   "cell_type": "code",
   "execution_count": 5,
   "metadata": {},
   "outputs": [
    {
     "name": "stdout",
     "output_type": "stream",
     "text": [
      "(-2147417848, 'The object invoked has disconnected from its clients.', None, None)\n",
      "Done\n"
     ]
    }
   ],
   "source": [
    "import schedule\n",
    "import time\n",
    "import win32com.client\n",
    "def daily_bi_queries():\n",
    "# Open Excel\n",
    "    path='C:\\\\Users\\\\Michael\\\\Downloads\\\\'\n",
    "    FileName='source_file_Austria.xlsx'\n",
    "    Application = win32com.client.Dispatch(\"Excel.Application\")\n",
    " \n",
    " # Show Excel. While this is not required, it can help with debugging\n",
    "    Application.Visible = 1\n",
    " \n",
    " # Open Your Workbook\n",
    "    Workbook = Application.Workbooks.open(path + FileName)\n",
    "    Application.DisplayAlerts=False\n",
    "    Application.EnableEvents = False\n",
    "    try:\n",
    "       Workbook.UpdateLink(Name=Workbook.LinkSources())\n",
    "\n",
    "    except Exception as e:\n",
    "       print(e)\n",
    "\n",
    " \n",
    "    # Refesh All\n",
    "    #Workbook.RefreshAll()\n",
    "    print('Done')\n",
    " # Saves the Workbook\n",
    "   # Workbook.Save()\n",
    " \n",
    " # Closes Excel\n",
    "    Application.Quit()\n",
    "daily_bi_queries()\n",
    "    "
   ]
  }
 ],
 "metadata": {
  "kernelspec": {
   "display_name": "Python 3",
   "language": "python",
   "name": "python3"
  },
  "language_info": {
   "codemirror_mode": {
    "name": "ipython",
    "version": 3
   },
   "file_extension": ".py",
   "mimetype": "text/x-python",
   "name": "python",
   "nbconvert_exporter": "python",
   "pygments_lexer": "ipython3",
   "version": "3.6.4"
  }
 },
 "nbformat": 4,
 "nbformat_minor": 2
}
